{
 "cells": [
  {
   "cell_type": "markdown",
   "metadata": {},
   "source": [
    "# Hyperboloidal Teukolsky Tutorial"
   ]
  },
  {
   "cell_type": "markdown",
   "metadata": {},
   "source": [
    "First we load in the python package, namely the classes RadialTeukolsky and HyperboloidalTeukolsky"
   ]
  },
  {
   "cell_type": "code",
   "execution_count": 1,
   "metadata": {},
   "outputs": [],
   "source": [
    "from hblteuk import RadialTeukolsky, HyperboloidalTeukolsky\n",
    "import time\n",
    "import matplotlib.pyplot as plt\n",
    "plt.rcParams['text.usetex'] = True\n",
    "import numpy as np"
   ]
  },
  {
   "cell_type": "markdown",
   "metadata": {},
   "source": [
    "## RadialTeukolsky class"
   ]
  },
  {
   "cell_type": "markdown",
   "metadata": {},
   "source": [
    "To generate Teukolsky solutions we first create an instance of the RadialTeukolsky class by specifying a spin-weight $s$, spheroidal multipole mode number $l$, and frequency $\\omega$. Note that at the moment we have only implemented this for Schwarzschild spacetime ($a/M = 0$), and therefore the value of azimuthal mode number $m$ is irrelevant."
   ]
  },
  {
   "cell_type": "code",
   "execution_count": 2,
   "metadata": {},
   "outputs": [
    {
     "data": {
      "text/latex": [
       "$R^\\mathrm{In/Up}_{sl\\omega}(r; -2, 16, 0.50)$"
      ],
      "text/plain": [
       "<hblteuk.RadialTeukolsky at 0x7fc3b0578d60>"
      ]
     },
     "metadata": {},
     "output_type": "display_data"
    }
   ],
   "source": [
    "s = -2\n",
    "l = 16\n",
    "omega = 0.5\n",
    "teuk = RadialTeukolsky(s, l, omega)\n",
    "display(teuk)"
   ]
  },
  {
   "cell_type": "markdown",
   "metadata": {},
   "source": [
    "Next we generate the homogeneous solutions by calling the `solve()` method"
   ]
  },
  {
   "cell_type": "code",
   "execution_count": 3,
   "metadata": {},
   "outputs": [
    {
     "name": "stdout",
     "output_type": "stream",
     "text": [
      "18.1 ms ± 392 µs per loop (mean ± std. dev. of 7 runs, 100 loops each)\n"
     ]
    }
   ],
   "source": [
    "%timeit teuk.solve()"
   ]
  },
  {
   "cell_type": "markdown",
   "metadata": {},
   "source": [
    "By default the class constructs both the 'In' and 'Up' solutions (e.g., $R_{sl\\omega}^\\mathrm{in}(r)$ and $R_{sl\\omega}^\\mathrm{up}(r)$), though we can ask the solver to just construct one of the homogeneous solutions via the option `bc` argument. For example,"
   ]
  },
  {
   "cell_type": "code",
   "execution_count": 4,
   "metadata": {},
   "outputs": [
    {
     "name": "stdout",
     "output_type": "stream",
     "text": [
      "9.05 ms ± 157 µs per loop (mean ± std. dev. of 7 runs, 100 loops each)\n"
     ]
    }
   ],
   "source": [
    "%timeit teuk.solve(bc='In')"
   ]
  },
  {
   "cell_type": "markdown",
   "metadata": {},
   "source": [
    "Likewise, the default `teuk.solve()` call is equivalent to"
   ]
  },
  {
   "cell_type": "code",
   "execution_count": 5,
   "metadata": {},
   "outputs": [
    {
     "name": "stdout",
     "output_type": "stream",
     "text": [
      "18.2 ms ± 389 µs per loop (mean ± std. dev. of 7 runs, 100 loops each)\n"
     ]
    }
   ],
   "source": [
    "%timeit teuk.solve(bc=['In', 'Up'])"
   ]
  },
  {
   "cell_type": "markdown",
   "metadata": {},
   "source": [
    "Once we have solved the Teukolsky equation, we can directly call the class to access either the 'In' or 'Up' solution. If we call `teuk()` with no arguments, then it will return a dict with keys 'In' and 'Up' that correspond to the solutions $R_{sl\\omega}^\\mathrm{in}(r)$ and $R_{sl\\omega}^\\mathrm{up}(r)$. Otherwise, we can specify one of the solutions in the argument call to get a specific solution. For example,"
   ]
  },
  {
   "cell_type": "code",
   "execution_count": 6,
   "metadata": {},
   "outputs": [
    {
     "data": {
      "text/plain": [
       "{'In': <hblteuk.RadialTeukolskySolution at 0x7fc3900be7f0>,\n",
       " 'Up': <hblteuk.RadialTeukolskySolution at 0x7fc3900c4370>}"
      ]
     },
     "metadata": {},
     "output_type": "display_data"
    },
    {
     "data": {
      "text/latex": [
       "{$R^\\mathrm{In}_{sl\\omega}(r; -2, 16, 0.50)$, $r \\in [2.00, 105.83] $}"
      ],
      "text/plain": [
       "<hblteuk.RadialTeukolskySolution at 0x7fc3900be7f0>"
      ]
     },
     "metadata": {},
     "output_type": "display_data"
    },
    {
     "data": {
      "text/latex": [
       "{$R^\\mathrm{In}_{sl\\omega}(r; -2, 16, 0.50)$, $r \\in [2.00, 105.83] $}"
      ],
      "text/plain": [
       "<hblteuk.RadialTeukolskySolution at 0x7fc3900be7f0>"
      ]
     },
     "metadata": {},
     "output_type": "display_data"
    },
    {
     "data": {
      "text/latex": [
       "{$R^\\mathrm{Up}_{sl\\omega}(r; -2, 16, 0.50)$, $r \\in [4.00, inf] $}"
      ],
      "text/plain": [
       "<hblteuk.RadialTeukolskySolution at 0x7fc3900c4370>"
      ]
     },
     "metadata": {},
     "output_type": "display_data"
    },
    {
     "data": {
      "text/latex": [
       "{$R^\\mathrm{Up}_{sl\\omega}(r; -2, 16, 0.50)$, $r \\in [4.00, inf] $}"
      ],
      "text/plain": [
       "<hblteuk.RadialTeukolskySolution at 0x7fc3900c4370>"
      ]
     },
     "metadata": {},
     "output_type": "display_data"
    }
   ],
   "source": [
    "display(teuk())\n",
    "Rteuk = teuk()\n",
    "Rin = Rteuk['In']\n",
    "Rup = Rteuk['Up']\n",
    "Rin_copy = teuk('In')\n",
    "Rup_copy = teuk('Up')\n",
    "display(Rin, Rin_copy)\n",
    "display(Rup, Rup_copy)"
   ]
  },
  {
   "cell_type": "markdown",
   "metadata": {},
   "source": [
    "Note that the display output also tells us the radial domain on which each solution is constructed. Therefore, we see that the 'In' solution is only known for $2 \\leq r/M \\leq 105.83$. Alternatively we can access the `domain` attribute to find the relevant domain of validity. (We can change this range of validity using the optional arguments of `solve()`. See following section for more details.)"
   ]
  },
  {
   "cell_type": "code",
   "execution_count": 7,
   "metadata": {},
   "outputs": [
    {
     "name": "stdout",
     "output_type": "stream",
     "text": [
      "[2.0, 105.82673679787996]\n",
      "[4.0, inf]\n",
      "{'In': [0.018898815748423097, 1.0], 'Up': [4.0, inf]}\n"
     ]
    }
   ],
   "source": [
    "print(Rin.domain) \n",
    "print(Rup.domain)\n",
    "print(teuk.domain)"
   ]
  },
  {
   "cell_type": "markdown",
   "metadata": {},
   "source": [
    "Calling a solution with a value or numpy array of values will return the corresponding solution value(s)."
   ]
  },
  {
   "cell_type": "code",
   "execution_count": 8,
   "metadata": {},
   "outputs": [
    {
     "name": "stdout",
     "output_type": "stream",
     "text": [
      "(-8.526181995708729e+18-7.943618120034888e+17j)\n",
      "[-8.52618200e+18-7.94361812e+17j -5.12931237e+19-7.95785717e+18j]\n"
     ]
    }
   ],
   "source": [
    "print(Rin(10.))\n",
    "print(Rin(np.array([10., 11.])))"
   ]
  },
  {
   "cell_type": "markdown",
   "metadata": {},
   "source": [
    "Alternatively, one can use the class method `sol(r)`"
   ]
  },
  {
   "cell_type": "code",
   "execution_count": 9,
   "metadata": {},
   "outputs": [
    {
     "name": "stdout",
     "output_type": "stream",
     "text": [
      "(1201939706.5449443-5220880855.100521j)\n",
      "[1.20193971e+09-5.22088086e+09j 1.96126336e+08-1.21527914e+09j]\n"
     ]
    }
   ],
   "source": [
    "print(Rup.sol(10.))\n",
    "print(Rup.sol(np.array([10., 11.])))"
   ]
  },
  {
   "cell_type": "markdown",
   "metadata": {},
   "source": [
    "To generate the solution at linearly-spaced points across the domain of validity, one can simply call the method `linspace(cutoff, n=100)`, with the optional argument `n` indicating the number of sample points. The default setting produces 100 points. The `cutoff` value specifies the minimum value of `r` for the `Up` solutions and the maximum value of `r` for the `In` solutions. This cutoff is necessary because the Teukolsky solutions formally diverge at the horizon and infinity. This method returns an array of radial points and array of solutions. Alteratively, if we just want to produce an array of radial points without generating the solution, we can call `linspace_var(cutoff, n=100)` instead."
   ]
  },
  {
   "cell_type": "code",
   "execution_count": 10,
   "metadata": {},
   "outputs": [
    {
     "name": "stdout",
     "output_type": "stream",
     "text": [
      "(100,)\n",
      "[array([  2.01      ,  13.54519298,  25.08038596,  36.61557893,\n",
      "        48.15077191,  59.68596489,  71.22115787,  82.75635084,\n",
      "        94.29154382, 105.8267368 ]), array([-1.17774848e-04-5.31926731e-04j, -2.20119998e+21-7.13250930e+20j,\n",
      "       -1.56692782e+25-3.45817035e+25j,  9.71070990e+26-6.30741812e+26j,\n",
      "       -2.66962263e+27-3.03670887e+26j, -1.12094151e+27+5.20840845e+27j,\n",
      "        7.34474400e+27+5.63923120e+27j,  1.43017770e+28-3.80409564e+27j,\n",
      "        1.09089967e+28-1.91929696e+28j, -6.30549835e+27-3.07392703e+28j])]\n",
      "[  2.01        13.54519298  25.08038596  36.61557893  48.15077191\n",
      "  59.68596489  71.22115787  82.75635084  94.29154382 105.8267368 ]\n"
     ]
    }
   ],
   "source": [
    "print(Rin.linspace(2.01)[0].shape)\n",
    "print(Rin.linspace(2.01, 10))\n",
    "print(Rin.linspace_var(2.01, 10))"
   ]
  },
  {
   "cell_type": "markdown",
   "metadata": {},
   "source": [
    "We can also get the derivative $\\partial_r R_{sl\\omega}(r)$ via the class method `deriv(r)` "
   ]
  },
  {
   "cell_type": "code",
   "execution_count": 11,
   "metadata": {},
   "outputs": [
    {
     "name": "stdout",
     "output_type": "stream",
     "text": [
      "(-2220653326.31394+8077811711.609354j)\n",
      "[-2.22065333e+09+8.07781171e+09j -3.52908848e+08+1.66998857e+09j]\n"
     ]
    }
   ],
   "source": [
    "print(Rup.deriv(10.))\n",
    "print(Rup.deriv(np.array([10., 11.])))"
   ]
  },
  {
   "cell_type": "markdown",
   "metadata": {},
   "source": [
    "Alternatively, one can call the class itself and specify the optional argument `deriv`"
   ]
  },
  {
   "cell_type": "code",
   "execution_count": 12,
   "metadata": {},
   "outputs": [
    {
     "data": {
      "text/plain": [
       "(-2220653326.31394+8077811711.609354j)"
      ]
     },
     "execution_count": 12,
     "metadata": {},
     "output_type": "execute_result"
    }
   ],
   "source": [
    "Rup(10., deriv=1)"
   ]
  },
  {
   "cell_type": "markdown",
   "metadata": {},
   "source": [
    "At the moment only the first two derivatives are available. Higher derivatives will be soon implemented in the future."
   ]
  },
  {
   "cell_type": "markdown",
   "metadata": {},
   "source": [
    "### `RadialTeukolsky.solve()` method\n",
    "The `solve()` method posses the following optional arguments:\n",
    "\n",
    "`RadialTeukolsky.solve(bc=['In','Up'], use_ts_transform=True, cutoff=[2,np.inf], subdomains=0, chebyshev_samples=16)`\n",
    "\n",
    "The option `use_ts_transform` specifies whether or not we make use of the Teukolsky-Starobinsky identities to generate stable numerical solutions depending on the sign of the spin-weight $s$. By setting this option to `False`, certain solutions will be numerically unstable, leading to inaccurate solutions, though this is not always the case."
   ]
  },
  {
   "cell_type": "code",
   "execution_count": 19,
   "metadata": {},
   "outputs": [],
   "source": [
    "teuk.solve(use_ts_transform=False)\n",
    "Rup_ts = teuk('Up')"
   ]
  },
  {
   "cell_type": "code",
   "execution_count": 46,
   "metadata": {},
   "outputs": [
    {
     "name": "stderr",
     "output_type": "stream",
     "text": [
      "<ipython-input-46-637e5c4fb1bd>:3: RuntimeWarning: divide by zero encountered in log10\n",
      "  plt.plot(np.real(r1), np.log10(np.abs(1-R1/R2)))\n"
     ]
    },
    {
     "data": {
      "image/png": "[encoded data removed]",
      "text/plain": [
       "<Figure size 432x288 with 1 Axes>"
      ]
     },
     "metadata": {
      "needs_background": "light"
     },
     "output_type": "display_data"
    }
   ],
   "source": [
    "r1, R1 = Rup_ts.linspace(10**4)\n",
    "r2, R2 = Rup.linspace(10**4)\n",
    "plt.plot(np.real(r1), np.log10(np.abs(1-R1/R2)))\n",
    "plt.show()"
   ]
  },
  {
   "cell_type": "markdown",
   "metadata": {},
   "source": [
    "We can see in this instance that we do not accrue much of an error when we avoid Teukolsky-Starobinsky"
   ]
  },
  {
   "cell_type": "markdown",
   "metadata": {},
   "source": [
    "The option `cutoff=[rmin, rmax]` sets the minimum radius `rmin` for which we calculate $R^\\mathrm{up}$ and the maximum radius `rmax` for which we calculate $R^\\mathrm{in}$. One can also specify `cutoff=r0` so that `rmin=rmax=r0`. If one leaves `cutoff` set at the default values, then the code chooses the cutoff values based on the frequency $\\omega$."
   ]
  },
  {
   "cell_type": "code",
   "execution_count": 47,
   "metadata": {},
   "outputs": [],
   "source": [
    "teuk.solve(cutoff=[4., 1000.])\n",
    "Rin_200 = teuk('In')"
   ]
  },
  {
   "cell_type": "code",
   "execution_count": 48,
   "metadata": {},
   "outputs": [
    {
     "data": {
      "image/png": "[encoded data removed]",
      "text/plain": [
       "<Figure size 432x288 with 1 Axes>"
      ]
     },
     "metadata": {
      "needs_background": "light"
     },
     "output_type": "display_data"
    }
   ],
   "source": [
    "r1, R1 = Rin.linspace(2.01)\n",
    "R2 = Rin_200(r1)\n",
    "plt.plot(np.real(r1), np.log10(np.abs(1-R1/R2)))\n",
    "plt.show()"
   ]
  },
  {
   "cell_type": "markdown",
   "metadata": {},
   "source": [
    "We see that extending the domain leads to less accurate solutions, namely because we are using the same number of Chebyshev series to represent a much larger computational domain. Thus, we expect the solutions to be less accurately represented across the larger domain."
   ]
  },
  {
   "cell_type": "markdown",
   "metadata": {},
   "source": [
    "The option `subdomains=N` specifies the number of subdomains that are used to construct the solution. Therefore, `N` subdomains means we tile $r$ into `N` sub-regions with each region represented by a different Chebyshev series. If `subdomains` is set to 0, then the code internally sets `N = max[16, 4*l]`. Increasing the number of subdomains typically increases computational time."
   ]
  },
  {
   "cell_type": "code",
   "execution_count": 49,
   "metadata": {},
   "outputs": [],
   "source": [
    "teuk.solve(subdomains=70)\n",
    "Rin_70 = teuk('In')\n",
    "teuk.solve(subdomains=100)\n",
    "Rin_100 = teuk('In')"
   ]
  },
  {
   "cell_type": "code",
   "execution_count": 50,
   "metadata": {},
   "outputs": [
    {
     "name": "stderr",
     "output_type": "stream",
     "text": [
      "<ipython-input-50-3639ec4cdfda>:4: RuntimeWarning: divide by zero encountered in log10\n",
      "  plt.plot(np.real(r1), np.log10(np.abs(1-R1/R2)))\n",
      "<ipython-input-50-3639ec4cdfda>:5: RuntimeWarning: divide by zero encountered in log10\n",
      "  plt.plot(np.real(r1), np.log10(np.abs(1-R2/R3)))\n"
     ]
    },
    {
     "data": {
      "image/png": "[encoded data removed]",
      "text/plain": [
       "<Figure size 432x288 with 1 Axes>"
      ]
     },
     "metadata": {
      "needs_background": "light"
     },
     "output_type": "display_data"
    }
   ],
   "source": [
    "r1, R1 = Rin.linspace(2.01)\n",
    "R2 = Rin_70(r1)\n",
    "R3 = Rin_100(r1)\n",
    "plt.plot(np.real(r1), np.log10(np.abs(1-R1/R2)))\n",
    "plt.plot(np.real(r1), np.log10(np.abs(1-R2/R3)))\n",
    "plt.show()"
   ]
  },
  {
   "cell_type": "markdown",
   "metadata": {},
   "source": [
    "Thus we see the improvement we get in the accuracy of our solutions as we split the domain into more sub-regions and use additional Chebyshev series to represent the full solution."
   ]
  },
  {
   "cell_type": "markdown",
   "metadata": {},
   "source": [
    "The option `chebyshev_samples` specifies the number of terms that are used in each of the Chebysehv series that represent the homogeneous solutions. Increasing the number of Chebyshev terms will increase computational time, but may also increase accuracy."
   ]
  },
  {
   "cell_type": "code",
   "execution_count": 51,
   "metadata": {},
   "outputs": [],
   "source": [
    "teuk.solve(chebyshev_samples=32)\n",
    "Rin_32 = teuk('In')\n",
    "teuk.solve(chebyshev_samples=64)\n",
    "Rin_64 = teuk('In')"
   ]
  },
  {
   "cell_type": "code",
   "execution_count": 52,
   "metadata": {},
   "outputs": [
    {
     "data": {
      "image/png": "[encoded data removed]",
      "text/plain": [
       "<Figure size 432x288 with 1 Axes>"
      ]
     },
     "metadata": {
      "needs_background": "light"
     },
     "output_type": "display_data"
    }
   ],
   "source": [
    "r1, R1 = Rin.linspace(2.01)\n",
    "R2 = Rin_32(r1)\n",
    "R3 = Rin_64(r1)\n",
    "plt.plot(np.real(r1), np.log10(np.abs(1-R1/R2)))\n",
    "plt.plot(np.real(r1), np.log10(np.abs(1-R2/R3)))\n",
    "plt.show()"
   ]
  },
  {
   "cell_type": "markdown",
   "metadata": {},
   "source": [
    "## HyperboloidalTeukolsky class\n",
    "This class is quite similar to RadialTeukolsky and shares almost all of the same functions, but rather than producing $R_{sl\\omega}^\\mathrm{in}(r)$ and $R_{sl\\omega}^\\mathrm{up}(r)$, it outputs $\\psi_{sl\\omega}^\\mathrm{in}(\\sigma)$ and $\\psi_{sl\\omega}^\\mathrm{up}(\\sigma)$ for $\\sigma = 2M/r$ and $R_{sl\\omega}^\\mathrm{in/up}(\\sigma) = Z_{sl\\omega}(\\sigma)\\psi_{sl\\omega}^\\mathrm{in/up}(\\sigma)$.teuk ="
   ]
  },
  {
   "cell_type": "code",
   "execution_count": 88,
   "metadata": {},
   "outputs": [
    {
     "data": {
      "text/latex": [
       "$\\Psi^\\mathrm{In/Up}_{sl\\omega}(\\sigma; -2, 16, 0.50)$"
      ],
      "text/plain": [
       "<hblteuk.HyperboloidalTeukolsky at 0x7fc3902ae040>"
      ]
     },
     "metadata": {},
     "output_type": "display_data"
    }
   ],
   "source": [
    "hbl = HyperboloidalTeukolsky(s, l, omega)\n",
    "display(hbl)"
   ]
  },
  {
   "cell_type": "code",
   "execution_count": 89,
   "metadata": {},
   "outputs": [
    {
     "name": "stdout",
     "output_type": "stream",
     "text": [
      "18.7 ms ± 2.27 ms per loop (mean ± std. dev. of 7 runs, 100 loops each)\n"
     ]
    }
   ],
   "source": [
    "%timeit hbl.solve()"
   ]
  },
  {
   "cell_type": "code",
   "execution_count": 90,
   "metadata": {},
   "outputs": [
    {
     "data": {
      "text/plain": [
       "{'In': <hblteuk.HyperboloidalTeukolskySolution at 0x7fc3902bf5b0>,\n",
       " 'Up': <hblteuk.HyperboloidalTeukolskySolution at 0x7fc3902bd460>}"
      ]
     },
     "metadata": {},
     "output_type": "display_data"
    },
    {
     "data": {
      "text/latex": [
       "{$\\Psi^\\mathrm{In}_{sl\\omega}(\\sigma; -2, 16, 0.50)$, $\\sigma \\in [0.02, 1.00] $}"
      ],
      "text/plain": [
       "<hblteuk.HyperboloidalTeukolskySolution at 0x7fc3902bf5b0>"
      ]
     },
     "metadata": {},
     "output_type": "display_data"
    },
    {
     "data": {
      "text/latex": [
       "{$\\Psi^\\mathrm{In}_{sl\\omega}(\\sigma; -2, 16, 0.50)$, $\\sigma \\in [0.02, 1.00] $}"
      ],
      "text/plain": [
       "<hblteuk.HyperboloidalTeukolskySolution at 0x7fc3902bf5b0>"
      ]
     },
     "metadata": {},
     "output_type": "display_data"
    },
    {
     "data": {
      "text/latex": [
       "{$\\Psi^\\mathrm{Up}_{sl\\omega}(\\sigma; -2, 16, 0.50)$, $\\sigma \\in [0.00, 0.50] $}"
      ],
      "text/plain": [
       "<hblteuk.HyperboloidalTeukolskySolution at 0x7fc3902bd460>"
      ]
     },
     "metadata": {},
     "output_type": "display_data"
    },
    {
     "data": {
      "text/latex": [
       "{$\\Psi^\\mathrm{Up}_{sl\\omega}(\\sigma; -2, 16, 0.50)$, $\\sigma \\in [0.00, 0.50] $}"
      ],
      "text/plain": [
       "<hblteuk.HyperboloidalTeukolskySolution at 0x7fc3902bd460>"
      ]
     },
     "metadata": {},
     "output_type": "display_data"
    }
   ],
   "source": [
    "display(hbl())\n",
    "Psihbl = hbl()\n",
    "Psiin = Psihbl['In']\n",
    "Psiup = Psihbl['Up']\n",
    "Psiin_copy = hbl('In')\n",
    "Psiup_copy = hbl('Up')\n",
    "display(Psiin, Psiin_copy)\n",
    "display(Psiup, Psiup_copy)"
   ]
  },
  {
   "cell_type": "markdown",
   "metadata": {},
   "source": [
    "We can also generate the hyperboloidal solutions from the RadialTeukolsky class and Teukolsky solutions from the HyperboloidalTeukolsky class via"
   ]
  },
  {
   "cell_type": "code",
   "execution_count": 91,
   "metadata": {},
   "outputs": [
    {
     "data": {
      "text/latex": [
       "{$\\Psi^\\mathrm{In}_{sl\\omega}(\\sigma; -2, 16, 0.50)$, $\\sigma \\in [0.02, 1.00] $}"
      ],
      "text/plain": [
       "<hblteuk.HyperboloidalTeukolskySolution at 0x7fc37053bb80>"
      ]
     },
     "metadata": {},
     "output_type": "display_data"
    },
    {
     "data": {
      "text/latex": [
       "{$R^\\mathrm{In}_{sl\\omega}(r; -2, 16, 0.50)$, $r \\in [2.00, 105.83] $}"
      ],
      "text/plain": [
       "<hblteuk.RadialTeukolskySolution at 0x7fc3d07e4f40>"
      ]
     },
     "metadata": {},
     "output_type": "display_data"
    }
   ],
   "source": [
    "teuk.solve()\n",
    "Psihbl_copy = teuk.get_hyperboloidal()\n",
    "Rteuk_copy = hbl.get_teukolsky()\n",
    "display(Psihbl_copy['In'])\n",
    "display(Rteuk_copy['In'])"
   ]
  },
  {
   "cell_type": "markdown",
   "metadata": {},
   "source": [
    "One small difference is that the hyperboloidal solutions are regular at least one of the boundaries. Therefore, when we call linspace, we do not need to specify cutoff values"
   ]
  },
  {
   "cell_type": "code",
   "execution_count": 92,
   "metadata": {},
   "outputs": [
    {
     "name": "stdout",
     "output_type": "stream",
     "text": [
      "(100,)\n",
      "[array([0.01889882, 0.12791006, 0.2369213 , 0.34593254, 0.45494379,\n",
      "       0.56395503, 0.67296627, 0.78197751, 0.89098876, 1.        ]), array([-1.44885272e+22-2.33809922e+22j,  9.58205664e+18-1.32476411e+18j,\n",
      "       -8.47634358e+14-3.11003819e+14j,  2.68585872e+11-1.44636178e+12j,\n",
      "        7.11945122e+09-5.68063901e+09j,  1.08290110e+08-3.23534306e+07j,\n",
      "        1.95973192e+06-2.40516997e+05j,  3.64535946e+04-5.48210322e+03j,\n",
      "        4.58642493e+02-2.29761175e+02j, -8.32293673e-01-1.81859485e+00j])]\n",
      "[0.01889882 0.12791006 0.2369213  0.34593254 0.45494379 0.56395503\n",
      " 0.67296627 0.78197751 0.89098876 1.        ]\n"
     ]
    }
   ],
   "source": [
    "print(Psiin.linspace()[0].shape)\n",
    "print(Psiin.linspace(10))\n",
    "print(Psiin.linspace_var(10))"
   ]
  },
  {
   "cell_type": "code",
   "execution_count": 95,
   "metadata": {},
   "outputs": [
    {
     "data": {
      "image/png": "[encoded data removed]",
      "text/plain": [
       "<Figure size 432x288 with 1 Axes>"
      ]
     },
     "metadata": {
      "needs_background": "light"
     },
     "output_type": "display_data"
    }
   ],
   "source": [
    "plt.loglog(*np.abs(np.real(Psihbl['In'].linspace(1000))), label='In')\n",
    "plt.loglog(*np.abs(np.real(Psihbl['Up'].linspace(1000))), label='Up')\n",
    "plt.xlabel(r'$\\sigma$')\n",
    "plt.ylabel(r'Re[$\\Psi$]')\n",
    "plt.legend()\n",
    "plt.show()"
   ]
  },
  {
   "cell_type": "code",
   "execution_count": null,
   "metadata": {},
   "outputs": [],
   "source": []
  },
  {
   "cell_type": "code",
   "execution_count": null,
   "metadata": {},
   "outputs": [],
   "source": []
  },
  {
   "cell_type": "code",
   "execution_count": null,
   "metadata": {},
   "outputs": [],
   "source": []
  }
 ],
 "metadata": {
  "kernelspec": {
   "display_name": "Python 3",
   "language": "python",
   "name": "python3"
  },
  "language_info": {
   "codemirror_mode": {
    "name": "ipython",
    "version": 3
   },
   "file_extension": ".py",
   "mimetype": "text/x-python",
   "name": "python",
   "nbconvert_exporter": "python",
   "pygments_lexer": "ipython3",
   "version": "3.8.5"
  }
 },
 "nbformat": 4,
 "nbformat_minor": 4
}

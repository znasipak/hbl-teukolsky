{
 "cells": [
  {
   "cell_type": "markdown",
   "metadata": {
    "id": "GsS49JR9WFyE"
   },
   "source": [
    "\n",
    "Solving the Teukolsky equation in Schwarzschild spacetime ($ a = 0$)"
   ]
  },
  {
   "cell_type": "code",
   "execution_count": 1,
   "metadata": {
    "id": "DbXbc7czWDcy"
   },
   "outputs": [],
   "source": [
    "from hblteuk import *\n",
    "import time"
   ]
  },
  {
   "cell_type": "code",
   "execution_count": 2,
   "metadata": {
    "colab": {
     "base_uri": "https://localhost:8080/"
    },
    "id": "bvXBAl7kdag2",
    "outputId": "b23a74b9-1577-449c-b4eb-bfeda65e2dfd"
   },
   "outputs": [],
   "source": [
    "import matplotlib.pyplot as plt\n",
    "plt.rcParams['text.usetex'] = True"
   ]
  },
  {
   "cell_type": "code",
   "execution_count": 3,
   "metadata": {
    "colab": {
     "base_uri": "https://localhost:8080/"
    },
    "id": "Pcws9yyU4vkV",
    "outputId": "f4b6375b-1152-45eb-8782-e6e1162699c0"
   },
   "outputs": [
    {
     "name": "stdout",
     "output_type": "stream",
     "text": [
      "Calculated in 27.70686149597168 ms\n",
      "RIn domain = [2.0, 105.83]\n",
      "RUp domain = [4.0, inf]\n"
     ]
    }
   ],
   "source": [
    "teuk = RadialTeukolsky(-2, 16, 0.5)\n",
    "start = time.time()\n",
    "teuk.solve(['Up','In'])\n",
    "end = time.time()\n",
    "print(\"Calculated in {} ms\".format(1000*(end-start)))\n",
    "print(\"RIn domain = [{}, {:.2f}]\".format(teuk.domain['In'][0],teuk.domain['In'][1]))\n",
    "print(\"RUp domain = [{}, {:.2f}]\".format(teuk.domain['Up'][0],teuk.domain['Up'][1]))"
   ]
  },
  {
   "cell_type": "code",
   "execution_count": 4,
   "metadata": {},
   "outputs": [
    {
     "name": "stdout",
     "output_type": "stream",
     "text": [
      "Calculated in 34.21425819396973 ms\n",
      "PsiIn domain = [0.018898815748423097, 1.00]\n",
      "PsiUp domain = [0.0, 0.50]\n"
     ]
    }
   ],
   "source": [
    "psi = HyperboloidalTeukolsky(-2, 16, 0.5)\n",
    "start = time.time()\n",
    "psi.solve(['Up','In'])\n",
    "end = time.time()\n",
    "print(\"Calculated in {} ms\".format(1000*(end-start)))\n",
    "print(\"PsiIn domain = [{}, {:.2f}]\".format(psi.domain['In'][0],psi.domain['In'][1]))\n",
    "print(\"PsiUp domain = [{}, {:.2f}]\".format(psi.domain['Up'][0],psi.domain['Up'][1]))"
   ]
  },
  {
   "cell_type": "code",
   "execution_count": 8,
   "metadata": {},
   "outputs": [
    {
     "data": {
      "text/latex": [
       "{$\\Psi^\\mathrm{In}_{sl\\omega}(\\sigma; -2, 16, 0.50)$, $\\sigma \\in [1.00, 0.02] $"
      ],
      "text/plain": [
       "<hblteuk.HyperboloidalTeukolskySolution at 0x7fbbff6ac640>"
      ]
     },
     "execution_count": 8,
     "metadata": {},
     "output_type": "execute_result"
    }
   ],
   "source": [
    "psi('In')"
   ]
  },
  {
   "cell_type": "code",
   "execution_count": null,
   "metadata": {},
   "outputs": [],
   "source": []
  },
  {
   "cell_type": "code",
   "execution_count": null,
   "metadata": {},
   "outputs": [],
   "source": []
  },
  {
   "cell_type": "code",
   "execution_count": 4,
   "metadata": {},
   "outputs": [],
   "source": [
    "comp_values = {\"In\":{0: (-2, 16, 0.5, 20.)}, \"Up\":{0: (-2, 16, 0.5, 20.)}}\n",
    "comp_results = {\"In\":{0: -1.1163420951466392e24 - (1.0403492600214159e24)*1j}, \"Up\":{0: -170325.778562383167 - 302813.293563351102j}}\n",
    "comp_results_deriv = {\"In\":{0: -7.799482595126929e23 - 8.777127845299971e23*1j}, \"Up\":{0: 72214.06348464891 + 189753.1635733067j}}"
   ]
  },
  {
   "cell_type": "code",
   "execution_count": 5,
   "metadata": {},
   "outputs": [
    {
     "data": {
      "text/plain": [
       "(-1.1163420951466392e+24-1.0403492600214159e+24j)"
      ]
     },
     "execution_count": 5,
     "metadata": {},
     "output_type": "execute_result"
    }
   ],
   "source": [
    "comp_results[\"In\"][0]"
   ]
  },
  {
   "cell_type": "code",
   "execution_count": 6,
   "metadata": {},
   "outputs": [
    {
     "name": "stdout",
     "output_type": "stream",
     "text": [
      "3.315079001949699e-13\n",
      "1.1931073194491025e-14\n",
      "3.3348959891787065e-13\n",
      "2.6790624965495123e-14\n"
     ]
    }
   ],
   "source": [
    "print(np.abs(1-teuk('In')(comp_values[\"In\"][0][3], deriv=0)/comp_results[\"In\"][0]))\n",
    "print(np.abs(1-teuk('Up')(comp_values[\"Up\"][0][3], deriv=0)/comp_results[\"Up\"][0]))\n",
    "print(np.abs(1-teuk('In')(comp_values[\"In\"][0][3], deriv=1)/comp_results_deriv[\"In\"][0]))\n",
    "print(np.abs(1-teuk('Up')(comp_values[\"Up\"][0][3], deriv=1)/comp_results_deriv[\"Up\"][0]))"
   ]
  },
  {
   "cell_type": "code",
   "execution_count": 7,
   "metadata": {},
   "outputs": [
    {
     "data": {
      "text/plain": [
       "(72214.06348464615+189753.16357330198j)"
      ]
     },
     "execution_count": 7,
     "metadata": {},
     "output_type": "execute_result"
    }
   ],
   "source": [
    "teuk()['Up'](20., deriv=1)"
   ]
  },
  {
   "cell_type": "code",
   "execution_count": 8,
   "metadata": {},
   "outputs": [
    {
     "data": {
      "text/plain": [
       "(3.552713678800501e-14-3.9638519863337627e-14j)"
      ]
     },
     "execution_count": 8,
     "metadata": {},
     "output_type": "execute_result"
    }
   ],
   "source": [
    "1-teuk.get_hyperboloidal('Up')(0., deriv=1)/(a1sigma0(teuk.s, teuk.l*(teuk.l + 1) - teuk.s*(teuk.s + 1), teuk.frequency))"
   ]
  },
  {
   "cell_type": "code",
   "execution_count": 9,
   "metadata": {},
   "outputs": [
    {
     "data": {
      "text/plain": [
       "(144.7937525214081, 144.79375252140824)"
      ]
     },
     "execution_count": 9,
     "metadata": {},
     "output_type": "execute_result"
    }
   ],
   "source": [
    "abs(2.*b1sigma1(teuk.s, teuk.l*(teuk.l + 1) - teuk.s*(teuk.s + 1), teuk.frequency)), abs(teuk.get_hyperboloidal('In')(1., deriv=1))"
   ]
  },
  {
   "cell_type": "code",
   "execution_count": 10,
   "metadata": {},
   "outputs": [
    {
     "data": {
      "text/plain": [
       "(-170325.77856240407-302813.2935633521j)"
      ]
     },
     "execution_count": 10,
     "metadata": {},
     "output_type": "execute_result"
    }
   ],
   "source": [
    "teuk('Up')(comp_values[\"Up\"][0][3], deriv=0)/(teuk.get_hyperboloidal('Up')(0., deriv=1)/a1sigma0(teuk.s, teuk.l*(teuk.l + 1) - teuk.s*(teuk.s + 1), teuk.frequency))"
   ]
  },
  {
   "cell_type": "code",
   "execution_count": null,
   "metadata": {},
   "outputs": [],
   "source": []
  },
  {
   "cell_type": "code",
   "execution_count": 11,
   "metadata": {},
   "outputs": [],
   "source": [
    "Rt = teuk()\n",
    "rstart = 20\n",
    "rend = rstart + 2*np.pi*5/Rt['In'].frequency\n",
    "if rend > Rt['In'].domain[0]:\n",
    "    rend = Rt['In'].domain[0]\n",
    "rvals = np.linspace(rstart, rend, num=300)\n",
    "Rtvals = Rt['In'](rvals)"
   ]
  },
  {
   "cell_type": "code",
   "execution_count": 12,
   "metadata": {},
   "outputs": [],
   "source": [
    "Psi = teuk.get_hyperboloidal()\n",
    "sigstart = Psi['In'].domain[0]\n",
    "sigend = Psi['In'].domains[-1]\n",
    "sigvals = np.linspace(sigstart, sigend, num=300)\n",
    "psivals = Psi['In'](sigvals)"
   ]
  },
  {
   "cell_type": "code",
   "execution_count": null,
   "metadata": {},
   "outputs": [],
   "source": []
  },
  {
   "cell_type": "code",
   "execution_count": null,
   "metadata": {},
   "outputs": [],
   "source": []
  },
  {
   "cell_type": "code",
   "execution_count": null,
   "metadata": {},
   "outputs": [],
   "source": []
  },
  {
   "cell_type": "code",
   "execution_count": 13,
   "metadata": {},
   "outputs": [
    {
     "data": {
      "image/png": "[encoded data removed]",
      "text/plain": [
       "<Figure size 432x288 with 1 Axes>"
      ]
     },
     "metadata": {
      "needs_background": "light"
     },
     "output_type": "display_data"
    }
   ],
   "source": [
    "plt.plot(rvals, np.real(rvals**(1+2*teuk.s)*Rtvals))\n",
    "plt.plot(rvals, np.imag(rvals**(1+2*teuk.s)*Rtvals))\n",
    "#plt.plot(rvals, np.real(Rtvals))\n",
    "#plt.plot(rvals, np.imag(Rtvals))\n",
    "plt.show()"
   ]
  },
  {
   "cell_type": "code",
   "execution_count": 14,
   "metadata": {},
   "outputs": [
    {
     "data": {
      "image/png": "[encoded data removed]",
      "text/plain": [
       "<Figure size 432x288 with 1 Axes>"
      ]
     },
     "metadata": {
      "needs_background": "light"
     },
     "output_type": "display_data"
    }
   ],
   "source": [
    "plt.xscale('log')\n",
    "plt.plot(sigvals[:], np.log(np.abs(np.real(psivals[:]))))\n",
    "plt.plot(sigvals[:], np.log(np.abs(np.imag(psivals[:]))))\n",
    "plt.show()"
   ]
  },
  {
   "cell_type": "code",
   "execution_count": null,
   "metadata": {},
   "outputs": [],
   "source": []
  },
  {
   "cell_type": "code",
   "execution_count": 13,
   "metadata": {
    "colab": {
     "base_uri": "https://localhost:8080/"
    },
    "id": "NUwNwbqgnSX0",
    "outputId": "191c5cd9-2e25-4043-9302-dbb4e484c27b"
   },
   "outputs": [
    {
     "name": "stdout",
     "output_type": "stream",
     "text": [
      "0.14741873741149902\n"
     ]
    }
   ],
   "source": [
    "import time\n",
    "start = time.time()\n",
    "s = 2\n",
    "l = 60\n",
    "omega = 0.03\n",
    "cs, domain=multichebteuk(s, l, omega)\n",
    "end = time.time()\n",
    "print(end-start)"
   ]
  },
  {
   "cell_type": "code",
   "execution_count": 259,
   "metadata": {
    "colab": {
     "base_uri": "https://localhost:8080/"
    },
    "id": "QBffnDoGpm1M",
    "outputId": "28989847-b996-4425-adb2-f981f9d8e4ba"
   },
   "outputs": [
    {
     "name": "stdout",
     "output_type": "stream",
     "text": [
      "[0.4788618422717033, 0.5]\n"
     ]
    },
    {
     "data": {
      "text/plain": [
       "(-2.0601874931681734e+157-4.298198902127338e+156j)"
      ]
     },
     "execution_count": 259,
     "metadata": {},
     "output_type": "execute_result"
    }
   ],
   "source": [
    "n=cs.size - 1\n",
    "ftest=ch.Chebyshev(cs[n], domain=[domain[n],domain[n+1]])\n",
    "print([domain[n],domain[n+1]])\n",
    "ftest(0.4999)"
   ]
  },
  {
   "cell_type": "code",
   "execution_count": 260,
   "metadata": {
    "colab": {
     "base_uri": "https://localhost:8080/"
    },
    "id": "RwB0RcmJbRT2",
    "outputId": "9d348721-530c-48a7-cb74-7638774b2631"
   },
   "outputs": [
    {
     "name": "stdout",
     "output_type": "stream",
     "text": [
      "[0.0, 1.642042592356615e-05]\n"
     ]
    },
    {
     "data": {
      "text/plain": [
       "(-2.8058523160718785e+22+1.078241494529699e+23j)"
      ]
     },
     "execution_count": 260,
     "metadata": {},
     "output_type": "execute_result"
    }
   ],
   "source": [
    "n=0\n",
    "ftest=ch.Chebyshev(cs[n], domain=[domain[n],domain[n+1]])\n",
    "print([domain[n],domain[n+1]])\n",
    "ftest(0.0001)"
   ]
  },
  {
   "cell_type": "code",
   "execution_count": 261,
   "metadata": {},
   "outputs": [],
   "source": [
    "n_cs = cs.size\n",
    "flist = np.empty(n_cs, dtype=object)\n",
    "for i in range(n_cs):\n",
    "    flist[i] = ch.Chebyshev(cs[i], domain=[domain[i], domain[i+1]])"
   ]
  },
  {
   "cell_type": "code",
   "execution_count": 262,
   "metadata": {},
   "outputs": [],
   "source": [
    "def multi_chebyshev(sigma, funcs, domains):\n",
    "    for i in range(funcs.size):\n",
    "        if sigma <= domain[i+1]:\n",
    "            return funcs[i](sigma)\n",
    "    return 0\n",
    "\n",
    "multi_chebyshev_vec = np.vectorize(multi_chebyshev, excluded=[1, 2])"
   ]
  },
  {
   "cell_type": "code",
   "execution_count": 263,
   "metadata": {},
   "outputs": [],
   "source": [
    "def multi_chebyshev_x(x, funcs, domains):\n",
    "    return multi_chebyshev_vec(sigmaOfX(x, domains[0], domains[-1]), funcs, domains)\n",
    "def log_multi_chebyshev(x, funcs, domains):\n",
    "    return np.log(np.abs(multi_chebyshev_vec(sigmaOfX(x, domains[0], domains[-1]), funcs, domains)))"
   ]
  },
  {
   "cell_type": "code",
   "execution_count": 264,
   "metadata": {},
   "outputs": [],
   "source": [
    "ctestCoeffs = ch.chebinterpolate(log_multi_chebyshev, 1000, args=(flist, domain))\n",
    "ctest = ch.Chebyshev(ctestCoeffs, domain=[domain[0], domain[-1]])\n",
    "#ctestCoeffs2 = ch.chebinterpolate(multi_chebyshev_x, 50, args=(flist, domain))\n",
    "#ctest2 = ch.Chebyshev(ctestCoeffs2, domain=[domain[0], domain[-1]])"
   ]
  },
  {
   "cell_type": "code",
   "execution_count": 265,
   "metadata": {},
   "outputs": [
    {
     "data": {
      "image/png": "[encoded data removed]",
      "text/plain": [
       "<Figure size 432x288 with 1 Axes>"
      ]
     },
     "metadata": {
      "needs_background": "light"
     },
     "output_type": "display_data"
    }
   ],
   "source": [
    "plt.plot(np.log10(np.abs(ctestCoeffs)))\n",
    "#plt.plot(np.log10(np.abs(ctestCoeffs2)))\n",
    "plt.show()"
   ]
  },
  {
   "cell_type": "code",
   "execution_count": 266,
   "metadata": {},
   "outputs": [],
   "source": [
    "sigma = np.linspace(domain[0], domain[-1], num= 200)\n",
    "psi = multi_chebyshev_vec(sigma, flist, domain)\n",
    "psiComp = np.exp(ctest(sigma))\n",
    "psiComp2 = ctest2(sigma)"
   ]
  },
  {
   "cell_type": "code",
   "execution_count": 267,
   "metadata": {},
   "outputs": [
    {
     "data": {
      "image/png": "[encoded data removed]",
      "text/plain": [
       "<Figure size 432x288 with 1 Axes>"
      ]
     },
     "metadata": {
      "needs_background": "light"
     },
     "output_type": "display_data"
    }
   ],
   "source": [
    "plt.plot(sigma, np.log(np.abs(np.real(psi))), label=r\"Re\")\n",
    "plt.plot(sigma, np.log(np.abs(np.imag(psi))), label=r\"Im\")\n",
    "plt.xlabel(r'$\\sigma$')\n",
    "plt.ylabel(r'$\\log|\\psi^+|$')\n",
    "plt.legend()\n",
    "plt.show()"
   ]
  },
  {
   "cell_type": "code",
   "execution_count": 268,
   "metadata": {},
   "outputs": [
    {
     "data": {
      "image/png": "[encoded data removed]",
      "text/plain": [
       "<Figure size 432x288 with 1 Axes>"
      ]
     },
     "metadata": {
      "needs_background": "light"
     },
     "output_type": "display_data"
    }
   ],
   "source": [
    "plt.plot(sigma, np.log(np.abs(psi)), label=r\"1\")\n",
    "plt.plot(sigma, np.log(psiComp), label=r\"2\")\n",
    "plt.xlabel(r'$\\sigma$')\n",
    "plt.ylabel(r'$\\log|\\psi^+|$')\n",
    "plt.legend()\n",
    "plt.show()"
   ]
  },
  {
   "cell_type": "code",
   "execution_count": 269,
   "metadata": {},
   "outputs": [
    {
     "data": {
      "image/png": "[encoded data removed]",
      "text/plain": [
       "<Figure size 432x288 with 1 Axes>"
      ]
     },
     "metadata": {
      "needs_background": "light"
     },
     "output_type": "display_data"
    }
   ],
   "source": [
    "plt.plot(sigma, np.log10(np.abs(1-psiComp/np.abs(psi))))\n",
    "#plt.plot(sigma, np.log10(np.abs(1-np.abs(psiComp2)/np.abs(psi))))\n",
    "#plt.plot(sigma, np.log10(np.abs(1-psiComp2/psi)))\n",
    "plt.show()"
   ]
  },
  {
   "cell_type": "code",
   "execution_count": 256,
   "metadata": {
    "colab": {
     "base_uri": "https://localhost:8080/"
    },
    "id": "xcFQsmuwi-dV",
    "outputId": "e92278de-9163-4b9a-94be-8c82727eb6d7"
   },
   "outputs": [
    {
     "name": "stdout",
     "output_type": "stream",
     "text": [
      "13392.722891122628\n",
      "(-6.669782228559607e-22+2.2229926217741414e-21j)\n",
      "(-690419356873.9948+2300830079531.1724j)\n"
     ]
    }
   ],
   "source": [
    "rtest=2.2/domain[1]\n",
    "print(rtest)\n",
    "print(rescaleteuk(2, omega, rtest)*f(2/rtest))\n",
    "print(rescaleteuk(-2, omega, rtest)*fm2(2/rtest))"
   ]
  },
  {
   "cell_type": "code",
   "execution_count": 257,
   "metadata": {
    "colab": {
     "base_uri": "https://localhost:8080/",
     "height": 277
    },
    "id": "-1uuNTVFp-6r",
    "outputId": "72c9789b-a057-446c-86d2-0f9325e85e2c"
   },
   "outputs": [
    {
     "data": {
      "image/png": "[encoded data removed]",
      "text/plain": [
       "<Figure size 432x288 with 1 Axes>"
      ]
     },
     "metadata": {
      "needs_background": "light"
     },
     "output_type": "display_data"
    }
   ],
   "source": [
    "plotdata = f.linspace()\n",
    "plotdata2 = fm2.linspace()\n",
    "plt.plot(plotdata[0], np.real(plotdata[1]), label=r\"Re[$\\psi_2$]\")\n",
    "plt.plot(plotdata[0], np.imag(plotdata[1]), label=r\"Im[$\\psi_2$]\")\n",
    "#plt.plot(plotdata[0], np.abs(plotdata[1]), label=r\"Abs[$\\psi_2$]\")\n",
    "plt.plot(plotdata2[0], np.real(plotdata2[1]), label=r\"Re[$\\psi_{-2}$]\")\n",
    "plt.plot(plotdata2[0], np.imag(plotdata2[1]), label=r\"Im[$\\psi_{-2}$]\")\n",
    "plt.xlabel(r'$\\sigma$')\n",
    "plt.ylabel(r'$\\psi_2$')\n",
    "plt.legend()\n",
    "plt.show()"
   ]
  },
  {
   "cell_type": "code",
   "execution_count": 14,
   "metadata": {
    "colab": {
     "base_uri": "https://localhost:8080/",
     "height": 264
    },
    "id": "Q2tjrE9kjEXN",
    "outputId": "cf6a51a7-2399-4084-fa58-c2fcdbb0953d"
   },
   "outputs": [
    {
     "data": {
      "image/png": "[encoded data removed]",
      "text/plain": [
       "<Figure size 432x288 with 1 Axes>"
      ]
     },
     "metadata": {
      "needs_background": "light"
     },
     "output_type": "display_data"
    }
   ],
   "source": [
    "plt.plot(np.log10(np.abs(checkteuk(2, l, omega, f))))\n",
    "plt.show()"
   ]
  },
  {
   "cell_type": "code",
   "execution_count": 46,
   "metadata": {
    "id": "R7j1TFI3nG2s"
   },
   "outputs": [],
   "source": [
    "boundaryListNB = np.zeros(11)\n",
    "boundaryListNB[1:] = 0.1*(0.8/0.1)**np.linspace(0, 1, num=10)"
   ]
  },
  {
   "cell_type": "code",
   "execution_count": 47,
   "metadata": {
    "id": "zssPzLpOddn5"
   },
   "outputs": [],
   "source": [
    "boundaryListNB = 1-boundaryListNB"
   ]
  },
  {
   "cell_type": "code",
   "execution_count": 48,
   "metadata": {
    "id": "DLCHC1XJlFYR"
   },
   "outputs": [
    {
     "data": {
      "text/plain": [
       "array([1.        , 0.9       , 0.8740079 , 0.84125989, 0.8       ,\n",
       "       0.74801579, 0.68251979, 0.6       , 0.49603158, 0.36503958,\n",
       "       0.2       ])"
      ]
     },
     "execution_count": 48,
     "metadata": {},
     "output_type": "execute_result"
    }
   ],
   "source": [
    "boundaryListNB"
   ]
  },
  {
   "cell_type": "code",
   "execution_count": null,
   "metadata": {
    "id": "XSxjGIc2lXU6"
   },
   "outputs": [],
   "source": []
  },
  {
   "cell_type": "code",
   "execution_count": null,
   "metadata": {
    "id": "LemqFqjCntku"
   },
   "outputs": [],
   "source": []
  }
 ],
 "metadata": {
  "accelerator": "GPU",
  "colab": {
   "provenance": []
  },
  "gpuClass": "standard",
  "kernelspec": {
   "display_name": "Python 3",
   "language": "python",
   "name": "python3"
  },
  "language_info": {
   "codemirror_mode": {
    "name": "ipython",
    "version": 3
   },
   "file_extension": ".py",
   "mimetype": "text/x-python",
   "name": "python",
   "nbconvert_exporter": "python",
   "pygments_lexer": "ipython3",
   "version": "3.8.3"
  }
 },
 "nbformat": 4,
 "nbformat_minor": 4
}
